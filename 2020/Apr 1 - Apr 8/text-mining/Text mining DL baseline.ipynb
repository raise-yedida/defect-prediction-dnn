{
 "cells": [
  {
   "cell_type": "code",
   "execution_count": 44,
   "metadata": {},
   "outputs": [],
   "source": [
    "import numpy as np\n",
    "import pandas as pd\n",
    "from collections import Counter\n",
    "import matplotlib.pyplot as plt\n",
    "\n",
    "# From https://machinelearningmastery.com/sequence-classification-lstm-recurrent-neural-networks-python-keras/\n",
    "# and https://towardsdatascience.com/multi-class-text-classification-with-lstm-1590bee1bd17\n",
    "from sklearn.model_selection import train_test_split\n",
    "from keras.models import Sequential\n",
    "from keras.layers import Dense\n",
    "from keras.layers import LSTM, SpatialDropout1D\n",
    "from keras.layers.embeddings import Embedding\n",
    "from keras.callbacks import EarlyStopping\n",
    "from keras.preprocessing.text import Tokenizer\n",
    "from keras.preprocessing.sequence import pad_sequences\n",
    "from keras.utils import to_categorical"
   ]
  },
  {
   "cell_type": "code",
   "execution_count": 2,
   "metadata": {},
   "outputs": [],
   "source": [
    "base_path = '../Dodge/data/textmining/'"
   ]
  },
  {
   "cell_type": "code",
   "execution_count": 3,
   "metadata": {},
   "outputs": [],
   "source": [
    "filename = 'pitsA.txt'"
   ]
  },
  {
   "cell_type": "code",
   "execution_count": 4,
   "metadata": {},
   "outputs": [
    {
     "name": "stderr",
     "output_type": "stream",
     "text": [
      "/Users/ryedida/opt/anaconda3/lib/python3.7/site-packages/ipykernel_launcher.py:1: ParserWarning: Falling back to the 'python' engine because the 'c' engine does not support regex separators (separators > 1 char and different from '\\s+' are interpreted as regex); you can avoid this warning by specifying engine='python'.\n",
      "  \"\"\"Entry point for launching an IPython kernel.\n"
     ]
    }
   ],
   "source": [
    "df = pd.read_csv(base_path + filename, sep='>>>', header=None)"
   ]
  },
  {
   "cell_type": "code",
   "execution_count": 5,
   "metadata": {},
   "outputs": [
    {
     "data": {
      "text/html": [
       "<div>\n",
       "<style scoped>\n",
       "    .dataframe tbody tr th:only-of-type {\n",
       "        vertical-align: middle;\n",
       "    }\n",
       "\n",
       "    .dataframe tbody tr th {\n",
       "        vertical-align: top;\n",
       "    }\n",
       "\n",
       "    .dataframe thead th {\n",
       "        text-align: right;\n",
       "    }\n",
       "</style>\n",
       "<table border=\"1\" class=\"dataframe\">\n",
       "  <thead>\n",
       "    <tr style=\"text-align: right;\">\n",
       "      <th></th>\n",
       "      <th>0</th>\n",
       "      <th>1</th>\n",
       "    </tr>\n",
       "  </thead>\n",
       "  <tbody>\n",
       "    <tr>\n",
       "      <td>0</td>\n",
       "      <td>filenam function tsdf undervolt condit line va...</td>\n",
       "      <td>3</td>\n",
       "    </tr>\n",
       "    <tr>\n",
       "      <td>1</td>\n",
       "      <td>file inflatedata function huft free line state...</td>\n",
       "      <td>3</td>\n",
       "    </tr>\n",
       "    <tr>\n",
       "      <td>2</td>\n",
       "      <td>file projectamain function inflatet line flexe...</td>\n",
       "      <td>3</td>\n",
       "    </tr>\n",
       "    <tr>\n",
       "      <td>3</td>\n",
       "      <td>file acprocesscommand function generatesmrespo...</td>\n",
       "      <td>3</td>\n",
       "    </tr>\n",
       "    <tr>\n",
       "      <td>4</td>\n",
       "      <td>file inflatedata function huft free line state...</td>\n",
       "      <td>3</td>\n",
       "    </tr>\n",
       "  </tbody>\n",
       "</table>\n",
       "</div>"
      ],
      "text/plain": [
       "                                                   0  1\n",
       "0  filenam function tsdf undervolt condit line va...  3\n",
       "1  file inflatedata function huft free line state...  3\n",
       "2  file projectamain function inflatet line flexe...  3\n",
       "3  file acprocesscommand function generatesmrespo...  3\n",
       "4  file inflatedata function huft free line state...  3"
      ]
     },
     "execution_count": 5,
     "metadata": {},
     "output_type": "execute_result"
    }
   ],
   "source": [
    "df.head()"
   ]
  },
  {
   "cell_type": "code",
   "execution_count": 27,
   "metadata": {},
   "outputs": [],
   "source": [
    "X = df[0]\n",
    "y = df[1]"
   ]
  },
  {
   "cell_type": "code",
   "execution_count": 28,
   "metadata": {},
   "outputs": [
    {
     "data": {
      "text/plain": [
       "array([2, 3, 4, 5])"
      ]
     },
     "execution_count": 28,
     "metadata": {},
     "output_type": "execute_result"
    }
   ],
   "source": [
    "np.unique(y)"
   ]
  },
  {
   "cell_type": "code",
   "execution_count": 29,
   "metadata": {},
   "outputs": [
    {
     "name": "stdout",
     "output_type": "stream",
     "text": [
      "<class 'pandas.core.frame.DataFrame'>\n",
      "RangeIndex: 965 entries, 0 to 964\n",
      "Data columns (total 2 columns):\n",
      "0    965 non-null object\n",
      "1    965 non-null int64\n",
      "dtypes: int64(1), object(1)\n",
      "memory usage: 15.2+ KB\n"
     ]
    }
   ],
   "source": [
    "df.info()"
   ]
  },
  {
   "cell_type": "code",
   "execution_count": 30,
   "metadata": {},
   "outputs": [
    {
     "data": {
      "text/plain": [
       "0    filenam function tsdf undervolt condit line va...\n",
       "1    file inflatedata function huft free line state...\n",
       "2    file projectamain function inflatet line flexe...\n",
       "3    file acprocesscommand function generatesmrespo...\n",
       "4    file inflatedata function huft free line state...\n",
       "Name: 0, dtype: object"
      ]
     },
     "execution_count": 30,
     "metadata": {},
     "output_type": "execute_result"
    }
   ],
   "source": [
    "X[:5]"
   ]
  },
  {
   "cell_type": "code",
   "execution_count": 31,
   "metadata": {},
   "outputs": [],
   "source": [
    "max_review_length = 500\n",
    "tokenizer = Tokenizer(num_words=max_review_length, lower=True)\n",
    "tokenizer.fit_on_texts(X)\n",
    "word_index = tokenizer.word_index\n",
    "\n",
    "#X_train = sequence.pad_sequences(X_train, maxlen=max_review_length)\n",
    "#X_test = sequence.pad_sequences(X_test, maxlen=max_review_length)"
   ]
  },
  {
   "cell_type": "code",
   "execution_count": 32,
   "metadata": {},
   "outputs": [
    {
     "name": "stdout",
     "output_type": "stream",
     "text": [
      "(965, 500)\n"
     ]
    }
   ],
   "source": [
    "X = tokenizer.texts_to_sequences(X)\n",
    "X = pad_sequences(X, max_review_length)\n",
    "print(X.shape)"
   ]
  },
  {
   "cell_type": "code",
   "execution_count": 33,
   "metadata": {},
   "outputs": [],
   "source": [
    "X_train, X_test, y_train, y_test = train_test_split(X, y)"
   ]
  },
  {
   "cell_type": "code",
   "execution_count": 34,
   "metadata": {},
   "outputs": [
    {
     "name": "stdout",
     "output_type": "stream",
     "text": [
      "(723, 500) (242, 500) (723,) (242,)\n"
     ]
    }
   ],
   "source": [
    "print(X_train.shape, X_test.shape, y_train.shape, y_test.shape)"
   ]
  },
  {
   "cell_type": "code",
   "execution_count": 35,
   "metadata": {},
   "outputs": [],
   "source": [
    "y_train -= 2"
   ]
  },
  {
   "cell_type": "code",
   "execution_count": 36,
   "metadata": {},
   "outputs": [],
   "source": [
    "y_test -= 2"
   ]
  },
  {
   "cell_type": "code",
   "execution_count": 37,
   "metadata": {},
   "outputs": [
    {
     "data": {
      "text/plain": [
       "array([0, 1, 2, 3])"
      ]
     },
     "execution_count": 37,
     "metadata": {},
     "output_type": "execute_result"
    }
   ],
   "source": [
    "np.unique(y_train)"
   ]
  },
  {
   "cell_type": "code",
   "execution_count": 38,
   "metadata": {},
   "outputs": [],
   "source": [
    "embedding_dims = 32"
   ]
  },
  {
   "cell_type": "code",
   "execution_count": 45,
   "metadata": {},
   "outputs": [],
   "source": [
    "y_train = to_categorical(y_train)\n",
    "y_test = to_categorical(y_test)"
   ]
  },
  {
   "cell_type": "code",
   "execution_count": 47,
   "metadata": {},
   "outputs": [
    {
     "name": "stderr",
     "output_type": "stream",
     "text": [
      "/Users/ryedida/opt/anaconda3/lib/python3.7/site-packages/tensorflow_core/python/framework/indexed_slices.py:433: UserWarning: Converting sparse IndexedSlices to a dense Tensor of unknown shape. This may consume a large amount of memory.\n",
      "  \"Converting sparse IndexedSlices to a dense Tensor of unknown shape. \"\n"
     ]
    },
    {
     "name": "stdout",
     "output_type": "stream",
     "text": [
      "Train on 650 samples, validate on 73 samples\n",
      "Epoch 1/5\n",
      "650/650 [==============================] - 5s 7ms/step - loss: 1.3554 - accuracy: 0.3785 - val_loss: 1.2114 - val_accuracy: 0.4521\n",
      "Epoch 2/5\n",
      "650/650 [==============================] - 5s 7ms/step - loss: 1.1936 - accuracy: 0.3631 - val_loss: 1.1207 - val_accuracy: 0.4110\n",
      "Epoch 3/5\n",
      "650/650 [==============================] - 5s 7ms/step - loss: 1.1500 - accuracy: 0.4308 - val_loss: 1.0670 - val_accuracy: 0.5890\n",
      "Epoch 4/5\n",
      "650/650 [==============================] - 5s 7ms/step - loss: 1.1079 - accuracy: 0.5369 - val_loss: 1.0393 - val_accuracy: 0.6438\n",
      "Epoch 5/5\n",
      "650/650 [==============================] - 5s 7ms/step - loss: 1.0137 - accuracy: 0.6200 - val_loss: 0.9026 - val_accuracy: 0.6027\n"
     ]
    }
   ],
   "source": [
    "model = Sequential()\n",
    "model.add(Embedding(max_review_length, embedding_dims, input_length=X.shape[1]))\n",
    "model.add(SpatialDropout1D(0.2))\n",
    "model.add(LSTM(100, dropout=0.2, recurrent_dropout=0.2))\n",
    "model.add(Dense(4, activation='softmax'))\n",
    "model.compile(loss='categorical_crossentropy', optimizer='adam', metrics=['accuracy'])\n",
    "\n",
    "epochs = 5\n",
    "batch_size = 64\n",
    "\n",
    "history = model.fit(X_train, y_train, epochs=epochs, batch_size=batch_size,validation_split=0.1,callbacks=[EarlyStopping(monitor='val_loss', patience=3, min_delta=0.0001)])"
   ]
  },
  {
   "cell_type": "code",
   "execution_count": 51,
   "metadata": {},
   "outputs": [],
   "source": [
    "def run_on_dataset(filename, outs=6):\n",
    "    df = pd.read_csv(base_path + filename, sep='>>>', header=None)\n",
    "    X = df[0]\n",
    "    y = df[1]\n",
    "    \n",
    "    max_review_length = 500\n",
    "    tokenizer = Tokenizer(num_words=max_review_length, lower=True)\n",
    "    tokenizer.fit_on_texts(X)\n",
    "    word_index = tokenizer.word_index\n",
    "    \n",
    "    X = tokenizer.texts_to_sequences(X)\n",
    "    X = pad_sequences(X, max_review_length)\n",
    "    \n",
    "    X_train, X_test, y_train, y_test = train_test_split(X, y)\n",
    "    embedding_dims = 32\n",
    "    \n",
    "    y_train = to_categorical(y_train)\n",
    "    y_test = to_categorical(y_test)\n",
    "    \n",
    "    model = Sequential()\n",
    "    model.add(Embedding(max_review_length, embedding_dims, input_length=X.shape[1]))\n",
    "    model.add(SpatialDropout1D(0.2))\n",
    "    model.add(LSTM(100, dropout=0.2, recurrent_dropout=0.2))\n",
    "    model.add(Dense(outs, activation='softmax'))\n",
    "    model.compile(loss='categorical_crossentropy', optimizer='adam', metrics=['accuracy'])\n",
    "\n",
    "    epochs = 5\n",
    "    batch_size = 64\n",
    "\n",
    "    history = model.fit(X_train, y_train, epochs=epochs, batch_size=batch_size,validation_split=0.1,callbacks=[EarlyStopping(monitor='val_loss', patience=3, min_delta=0.0001)])"
   ]
  },
  {
   "cell_type": "code",
   "execution_count": 52,
   "metadata": {},
   "outputs": [
    {
     "name": "stderr",
     "output_type": "stream",
     "text": [
      "/Users/ryedida/opt/anaconda3/lib/python3.7/site-packages/ipykernel_launcher.py:2: ParserWarning: Falling back to the 'python' engine because the 'c' engine does not support regex separators (separators > 1 char and different from '\\s+' are interpreted as regex); you can avoid this warning by specifying engine='python'.\n",
      "  \n",
      "/Users/ryedida/opt/anaconda3/lib/python3.7/site-packages/tensorflow_core/python/framework/indexed_slices.py:433: UserWarning: Converting sparse IndexedSlices to a dense Tensor of unknown shape. This may consume a large amount of memory.\n",
      "  \"Converting sparse IndexedSlices to a dense Tensor of unknown shape. \"\n"
     ]
    },
    {
     "name": "stdout",
     "output_type": "stream",
     "text": [
      "Train on 217 samples, validate on 25 samples\n",
      "Epoch 1/5\n",
      "217/217 [==============================] - 2s 9ms/step - loss: 1.7784 - accuracy: 0.3456 - val_loss: 1.7387 - val_accuracy: 0.5200\n",
      "Epoch 2/5\n",
      "217/217 [==============================] - 2s 7ms/step - loss: 1.7092 - accuracy: 0.5991 - val_loss: 1.6131 - val_accuracy: 0.5200\n",
      "Epoch 3/5\n",
      "217/217 [==============================] - 2s 7ms/step - loss: 1.4767 - accuracy: 0.5760 - val_loss: 0.8483 - val_accuracy: 0.5200\n",
      "Epoch 4/5\n",
      "217/217 [==============================] - 2s 7ms/step - loss: 0.9128 - accuracy: 0.5760 - val_loss: 0.7312 - val_accuracy: 0.5200\n",
      "Epoch 5/5\n",
      "217/217 [==============================] - 2s 7ms/step - loss: 0.9024 - accuracy: 0.5806 - val_loss: 0.6927 - val_accuracy: 0.8800\n"
     ]
    }
   ],
   "source": [
    "run_on_dataset('pitsC.txt')"
   ]
  },
  {
   "cell_type": "code",
   "execution_count": 54,
   "metadata": {},
   "outputs": [
    {
     "name": "stderr",
     "output_type": "stream",
     "text": [
      "/Users/ryedida/opt/anaconda3/lib/python3.7/site-packages/ipykernel_launcher.py:2: ParserWarning: Falling back to the 'python' engine because the 'c' engine does not support regex separators (separators > 1 char and different from '\\s+' are interpreted as regex); you can avoid this warning by specifying engine='python'.\n",
      "  \n",
      "/Users/ryedida/opt/anaconda3/lib/python3.7/site-packages/tensorflow_core/python/framework/indexed_slices.py:433: UserWarning: Converting sparse IndexedSlices to a dense Tensor of unknown shape. This may consume a large amount of memory.\n",
      "  \"Converting sparse IndexedSlices to a dense Tensor of unknown shape. \"\n"
     ]
    },
    {
     "name": "stdout",
     "output_type": "stream",
     "text": [
      "Train on 122 samples, validate on 14 samples\n",
      "Epoch 1/5\n",
      "122/122 [==============================] - 1s 11ms/step - loss: 1.6003 - accuracy: 0.5246 - val_loss: 1.5732 - val_accuracy: 0.8571\n",
      "Epoch 2/5\n",
      "122/122 [==============================] - 1s 6ms/step - loss: 1.5592 - accuracy: 0.9344 - val_loss: 1.5308 - val_accuracy: 0.8571\n",
      "Epoch 3/5\n",
      "122/122 [==============================] - 1s 6ms/step - loss: 1.5053 - accuracy: 0.9344 - val_loss: 1.4646 - val_accuracy: 0.8571\n",
      "Epoch 4/5\n",
      "122/122 [==============================] - 1s 6ms/step - loss: 1.4187 - accuracy: 0.9344 - val_loss: 1.3404 - val_accuracy: 0.8571\n",
      "Epoch 5/5\n",
      "122/122 [==============================] - 1s 6ms/step - loss: 1.2411 - accuracy: 0.9344 - val_loss: 1.0121 - val_accuracy: 0.8571\n"
     ]
    }
   ],
   "source": [
    "run_on_dataset('pitsD.txt', 5)"
   ]
  },
  {
   "cell_type": "markdown",
   "metadata": {},
   "source": [
    "## Data visualization"
   ]
  },
  {
   "cell_type": "code",
   "execution_count": 12,
   "metadata": {},
   "outputs": [
    {
     "data": {
      "text/plain": [
       "(array([912.,  47.,   4.,   1.,   0.,   0.,   0.,   0.,   0.,   1.]),\n",
       " array([  12. ,  251.8,  491.6,  731.4,  971.2, 1211. , 1450.8, 1690.6,\n",
       "        1930.4, 2170.2, 2410. ]),\n",
       " <a list of 10 Patch objects>)"
      ]
     },
     "execution_count": 12,
     "metadata": {},
     "output_type": "execute_result"
    },
    {
     "data": {
      "image/png": "[encoded data removed]",
      "text/plain": [
       "<Figure size 432x288 with 1 Axes>"
      ]
     },
     "metadata": {
      "needs_background": "light"
     },
     "output_type": "display_data"
    }
   ],
   "source": [
    "X2 = [x.split() for x in X]\n",
    "plt.hist([len(t) for t in X2])"
   ]
  },
  {
   "cell_type": "code",
   "execution_count": 32,
   "metadata": {},
   "outputs": [],
   "source": [
    "combined = [z for t in X2 for z in t]"
   ]
  },
  {
   "cell_type": "code",
   "execution_count": 37,
   "metadata": {},
   "outputs": [
    {
     "data": {
      "image/png": "[encoded data removed]",
      "text/plain": [
       "<Figure size 432x288 with 1 Axes>"
      ]
     },
     "metadata": {
      "needs_background": "light"
     },
     "output_type": "display_data"
    }
   ],
   "source": [
    "counts = Counter(combined)\n",
    "labels, values = zip(*counts.items())\n",
    "indSort = np.argsort(values)[::-1]\n",
    "\n",
    "labels = np.array(labels)[indSort]\n",
    "values = np.array(values)[indSort]\n",
    "indexes = np.arange(len(labels))\n",
    "\n",
    "plt.bar(indexes, values)\n",
    "\n",
    "# add labels\n",
    "plt.xticks(indexes + 0.3, labels)\n",
    "plt.show()"
   ]
  },
  {
   "cell_type": "code",
   "execution_count": 48,
   "metadata": {},
   "outputs": [
    {
     "data": {
      "image/png": "[encoded data removed]",
      "text/plain": [
       "<Figure size 720x720 with 1 Axes>"
      ]
     },
     "metadata": {
      "needs_background": "light"
     },
     "output_type": "display_data"
    }
   ],
   "source": [
    "# Now check distribution of the counts\n",
    "l, v = zip(*Counter(values).items())\n",
    "iS = np.argsort(v)[::-1]\n",
    "l = np.array(l)[iS]\n",
    "v = np.array(v)[iS]\n",
    "idx = np.arange(len(l))\n",
    "\n",
    "plt.figure(figsize=(10,10))\n",
    "plt.bar(idx, v)\n",
    "plt.xticks(idx+0.3, l)\n",
    "plt.show()"
   ]
  },
  {
   "cell_type": "code",
   "execution_count": 49,
   "metadata": {},
   "outputs": [
    {
     "data": {
      "text/plain": [
       "104"
      ]
     },
     "execution_count": 49,
     "metadata": {},
     "output_type": "execute_result"
    }
   ],
   "source": [
    "sum(v == 1)"
   ]
  },
  {
   "cell_type": "code",
   "execution_count": 50,
   "metadata": {},
   "outputs": [
    {
     "data": {
      "text/plain": [
       "3194"
      ]
     },
     "execution_count": 50,
     "metadata": {},
     "output_type": "execute_result"
    }
   ],
   "source": [
    "len(values)"
   ]
  },
  {
   "cell_type": "markdown",
   "metadata": {},
   "source": [
    "Out of 3,194 words, 104 have only 1 occurrence"
   ]
  },
  {
   "cell_type": "code",
   "execution_count": 55,
   "metadata": {},
   "outputs": [
    {
     "name": "stdout",
     "output_type": "stream",
     "text": [
      "1 : 104\n",
      "2 : 40\n",
      "3 : 22\n",
      "4 : 13\n",
      "5 : 12\n",
      "6 : 9\n",
      "7 : 3\n",
      "8 : 1\n",
      "9 : 2\n",
      "10 : 1\n",
      "11 : 3\n",
      "12 : 3\n",
      "13 : 4\n",
      "14 : 1\n",
      "15 : 2\n",
      "16 : 1\n",
      "17 : 1\n",
      "18 : 1\n",
      "19 : 0\n",
      "20 : 0\n",
      "21 : 0\n",
      "22 : 1\n",
      "23 : 0\n",
      "24 : 0\n",
      "25 : 1\n",
      "26 : 0\n",
      "27 : 0\n",
      "28 : 1\n",
      "29 : 0\n",
      "30 : 1\n",
      "31 : 0\n",
      "32 : 0\n",
      "33 : 0\n",
      "34 : 1\n",
      "35 : 1\n",
      "36 : 1\n",
      "37 : 3\n",
      "38 : 0\n",
      "39 : 0\n",
      "40 : 0\n",
      "41 : 1\n",
      "42 : 0\n",
      "43 : 0\n",
      "44 : 0\n",
      "45 : 0\n",
      "46 : 0\n",
      "47 : 0\n",
      "48 : 0\n",
      "49 : 0\n",
      "50 : 0\n"
     ]
    }
   ],
   "source": [
    "for i in range(1, 51):\n",
    "    print(i, \":\", sum(v == i))"
   ]
  },
  {
   "cell_type": "code",
   "execution_count": 67,
   "metadata": {},
   "outputs": [
    {
     "data": {
      "text/plain": [
       "2.0"
      ]
     },
     "execution_count": 67,
     "metadata": {},
     "output_type": "execute_result"
    }
   ],
   "source": [
    "np.percentile(values, 25)"
   ]
  },
  {
   "cell_type": "code",
   "execution_count": 68,
   "metadata": {},
   "outputs": [
    {
     "data": {
      "text/plain": [
       "4.0"
      ]
     },
     "execution_count": 68,
     "metadata": {},
     "output_type": "execute_result"
    }
   ],
   "source": [
    "np.percentile(values, 50)"
   ]
  },
  {
   "cell_type": "code",
   "execution_count": 69,
   "metadata": {},
   "outputs": [
    {
     "data": {
      "text/plain": [
       "3337.0"
      ]
     },
     "execution_count": 69,
     "metadata": {},
     "output_type": "execute_result"
    }
   ],
   "source": [
    "np.percentile(values, 100)"
   ]
  },
  {
   "cell_type": "code",
   "execution_count": 70,
   "metadata": {},
   "outputs": [
    {
     "data": {
      "image/png": "[encoded data removed]",
      "text/plain": [
       "<Figure size 432x288 with 1 Axes>"
      ]
     },
     "metadata": {
      "needs_background": "light"
     },
     "output_type": "display_data"
    }
   ],
   "source": [
    "plt.boxplot(values);"
   ]
  },
  {
   "cell_type": "code",
   "execution_count": 71,
   "metadata": {},
   "outputs": [
    {
     "data": {
      "text/plain": [
       "17.0"
      ]
     },
     "execution_count": 71,
     "metadata": {},
     "output_type": "execute_result"
    }
   ],
   "source": [
    "np.percentile(values, 75)"
   ]
  },
  {
   "cell_type": "code",
   "execution_count": 66,
   "metadata": {},
   "outputs": [
    {
     "data": {
      "text/plain": [
       "array([3337, 2046, 1695, 1633, 1470, 1191, 1021,  981,  917,  845])"
      ]
     },
     "execution_count": 66,
     "metadata": {},
     "output_type": "execute_result"
    }
   ],
   "source": [
    "values[:10]"
   ]
  },
  {
   "cell_type": "code",
   "execution_count": 73,
   "metadata": {},
   "outputs": [
    {
     "data": {
      "text/plain": [
       "125.0"
      ]
     },
     "execution_count": 73,
     "metadata": {},
     "output_type": "execute_result"
    }
   ],
   "source": [
    "np.percentile(values, 95)"
   ]
  },
  {
   "cell_type": "markdown",
   "metadata": {},
   "source": [
    "This seems like a reasonable cut-off, but we could change this later."
   ]
  },
  {
   "cell_type": "code",
   "execution_count": null,
   "metadata": {},
   "outputs": [],
   "source": []
  }
 ],
 "metadata": {
  "kernelspec": {
   "display_name": "Python 3",
   "language": "python",
   "name": "python3"
  },
  "language_info": {
   "codemirror_mode": {
    "name": "ipython",
    "version": 3
   },
   "file_extension": ".py",
   "mimetype": "text/x-python",
   "name": "python",
   "nbconvert_exporter": "python",
   "pygments_lexer": "ipython3",
   "version": "3.7.4"
  }
 },
 "nbformat": 4,
 "nbformat_minor": 2
}
